{
 "cells": [
  {
   "cell_type": "markdown",
   "metadata": {},
   "source": [
    "# General Questions"
   ]
  },
  {
   "cell_type": "markdown",
   "metadata": {},
   "source": [
    "##### 1. Python is an interpreted language. What does this mean? Where is this aspect most visible?"
   ]
  },
  {
   "cell_type": "markdown",
   "metadata": {},
   "source": [
    "It means that the entire Python program you write is **not** compiled first and then run. The program is read in one line at a time by the Python interpreter, converted to bytecode and then to machine language and executed. The entire program gets executed in this manner – line by line – by the Python interpreter and runtime environment.\n",
    "\n",
    "This aspect is most visible / evident in the Python REPL or in Jupyter notebooks.\n",
    "\n",
    "In contrast, in a compiled language like Java, the entire program is read, compiled to byte code and executed by the Java environment. C programs on the other hand are compiled to object code and linked before execution."
   ]
  },
  {
   "cell_type": "markdown",
   "metadata": {},
   "source": [
    "##### 2. What is the Python REPL?"
   ]
  },
  {
   "cell_type": "markdown",
   "metadata": {},
   "source": [
    "This is the Python CLI (command line interface). Python provides a means of interaction known as a read–eval–print loop (REPL), also termed as an interactive shell. This is a simple interactive computer programming environment that takes user input (e.g., python statements / literals), executes them, and returns the result to the user; a program written in a REPL environment is executed piecewise.\n",
    "\n",
    "If installed, Python's REPL can be invoked in the CLI by the command `python` or `python3`.\n",
    "\n",
    "In a Windows Anaconda environment, the REPL is available as the Python shell. Start it, and in the CLI, enter `python`.\n",
    "\n",
    "In a linux environment, Python's REPL can be invoked in a terminal window by the command `python3`."
   ]
  },
  {
   "cell_type": "markdown",
   "metadata": {},
   "source": [
    "##### 3. Why are comments important? What are the different types of comments supported in python?"
   ]
  },
  {
   "cell_type": "markdown",
   "metadata": {},
   "source": [
    "Comments are important as they can provide documentation about a piece of code. Without comments, one would have to read the code to understand what it does before being able to use it.\n",
    "\n",
    "Python supports only single-line comments. A comment starts with `#` up to the end of the line, and is not executed by the interpreter. Note that the comment need not start at the beginning of the line.\n",
    "\n",
    "**Note:** Python does not support multiline comments."
   ]
  },
  {
   "cell_type": "markdown",
   "metadata": {},
   "source": [
    "##### 4. Does python support multiline comments? If so what is the syntax?"
   ]
  },
  {
   "cell_type": "markdown",
   "metadata": {},
   "source": [
    "Python does not support multiline comments. However there is a way around this limitation - by using multi-line **string literals** wherever you want to write a multi-line comment. Writing a comment as a multi-line string literal (i.e., not assigned to any variable) will cause Python to not take any action; people reading the code can view this as a comment block.\n",
    "\n",
    "In fact this is a popular way of documenting python code and behaviour and is called a docstring."
   ]
  },
  {
   "cell_type": "markdown",
   "metadata": {},
   "source": [
    "##### 5. Suppose you write a function def my_function(param). How do you write documentation for this function so that others can access it?"
   ]
  },
  {
   "cell_type": "markdown",
   "metadata": {},
   "source": [
    "When used in a certain manner, multi-line string literals serve an important purpose in Python – documenting code specifications. For example, writing a multi-line string literal just after a function definition is treated as documentation for the function. Likewise for classes, modules, data types and so on. Rules of indentation need to be followed.\n",
    "\n",
    "As an example, enter the following code in the Python REPL:\n",
    "\n",
    "<code>>>> def my_function(param):\n",
    "...\t'''my_function takes a parameter, applies the foobar\n",
    "...\t   transformation and returns a value.'''\n",
    "...\tpass\n",
    "...</code><br>\n",
    "<code>>>></code>\n",
    "\n",
    "Acccessing the documentation is as simple as entering `help(my_function)` in the Python REPL (or in a Jupyter Notebook cell).\n",
    "\n",
    "<code>>>> help(my_function)\n",
    "Help on function my_function in module __main__:\n",
    "\n",
    "my_function()\n",
    "    my_function takes a parameter, applies the foobar\n",
    "    transformation and returns a value.\n",
    "</code>\n",
    "<code>>>></code>\n"
   ]
  },
  {
   "cell_type": "markdown",
   "metadata": {},
   "source": [
    "##### 6. Python has a module called “random”. How can you find out details about this module without using the Internet?"
   ]
  },
  {
   "cell_type": "markdown",
   "metadata": {},
   "source": [
    "Either in the REPL terminal or in a Jupyter Notebook cell, type the following code:\n",
    "\n",
    "<code>\n",
    ">>> import random\n",
    ">>> help(random)\n",
    "Help on module random:\n",
    "NAME\n",
    "    random - Random variable generators.\n",
    "MODULE REFERENCE\n",
    "    https://docs.python.org/3.8/library/random<br>\n",
    "    The following documentation is automatically generated from the Python ...\n",
    "    (... more documentation)\n",
    "</code>\n",
    "\n",
    "This will print out the help available for the random module.\n"
   ]
  },
  {
   "cell_type": "markdown",
   "metadata": {},
   "source": [
    "##### 7. Continuing the earlier question, how can you find out what attributes and functions are supported in the random module?"
   ]
  },
  {
   "cell_type": "markdown",
   "metadata": {},
   "source": [
    "Either in the REPL terminal or in a Jupyter Notebook cell, type dir(random):\n",
    "\n",
    "<code>\n",
    ">>> dir(random)\n",
    "['BPF', 'LOG4', 'NV_MAGICCONST', 'RECIP_BPF', 'Random', 'SG_MAGICCONST', 'SystemRandom', 'TWOPI', '_Sequence', '_Set', '__all__', '__builtins__', '__cached__', '__doc__', '__file__', '__loader__', '__name__', '__package__', '__spec__', '_accumulate', '_acos', '_bisect', '_ceil', '_cos', '_e', '_exp', '_inst', '_log', '_os', '_pi', '_random', '_repeat', '_sha512', '_sin', '_sqrt', '_test', '_test_generator', '_urandom', '_warn', 'betavariate', 'choice', 'choices', 'expovariate', 'gammavariate', 'gauss', 'getrandbits', 'getstate', 'lognormvariate', 'normalvariate', 'paretovariate', 'randint', 'random', 'randrange', 'sample', 'seed', 'setstate', 'shuffle', 'triangular', 'uniform', 'vonmisesvariate', 'weibullvariate']\n",
    ">>>\n",
    "</code>"
   ]
  },
  {
   "cell_type": "code",
   "execution_count": null,
   "metadata": {},
   "outputs": [],
   "source": []
  }
 ],
 "metadata": {
  "kernelspec": {
   "display_name": "Python 3",
   "language": "python",
   "name": "python3"
  },
  "language_info": {
   "codemirror_mode": {
    "name": "ipython",
    "version": 3
   },
   "file_extension": ".py",
   "mimetype": "text/x-python",
   "name": "python",
   "nbconvert_exporter": "python",
   "pygments_lexer": "ipython3",
   "version": "3.8.5"
  }
 },
 "nbformat": 4,
 "nbformat_minor": 4
}
